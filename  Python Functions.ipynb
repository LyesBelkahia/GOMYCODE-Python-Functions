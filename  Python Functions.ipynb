{
 "cells": [
  {
   "cell_type": "code",
   "execution_count": 29,
   "id": "8f41af1f",
   "metadata": {},
   "outputs": [
    {
     "name": "stdout",
     "output_type": "stream",
     "text": [
      "choose a number : 3\n",
      "and anoter one : 3\n",
      "and another one : 3\n",
      "I know you like the number 3 but can you choose another one. Thank you.\n"
     ]
    }
   ],
   "source": [
    "a=int(input(\"choose a number : \"))\n",
    "b=int(input(\"and anoter one : \"))\n",
    "c=int(input(\"and another one : \"))\n",
    "def function():\n",
    "    if a>b:\n",
    "        if a>c:\n",
    "            print(a, \"is the Max of your three numbers\")\n",
    "    elif b>a:\n",
    "        if b>c:\n",
    "            print(b, \"is the Max of your three numbers\")\n",
    "    elif c>a:\n",
    "        if c>b:\n",
    "            print(c, \"is the Max of your three numbers\")\n",
    "    else:\n",
    "        print(\"I know you like the number\", a, \"but can you choose another one. Thank you.\")\n",
    "        \n",
    "function()"
   ]
  },
  {
   "cell_type": "code",
   "execution_count": 30,
   "id": "8078a37d",
   "metadata": {},
   "outputs": [
    {
     "name": "stdout",
     "output_type": "stream",
     "text": [
      "choose a number : 100\n",
      "and another one : 2\n"
     ]
    },
    {
     "data": {
      "text/plain": [
       "(102, 98)"
      ]
     },
     "execution_count": 30,
     "metadata": {},
     "output_type": "execute_result"
    }
   ],
   "source": [
    "def calculation(a,b):\n",
    "    x=int(a)\n",
    "    y=int(b)\n",
    "    \n",
    "    return(x+y, x-y)\n",
    "calculation(input(\"choose a number : \"),input(\"and another one : \"))"
   ]
  },
  {
   "cell_type": "code",
   "execution_count": 21,
   "id": "c8522b68",
   "metadata": {},
   "outputs": [
    {
     "name": "stdout",
     "output_type": "stream",
     "text": [
      "choose a number : 2\n",
      "if you want to add another value, type : add ; if you want to stop, type : stop add\n",
      "your other number : 3\n",
      "if you want to add another value, type : add ; if you want to stop, type : stop add\n",
      "your other number : 4\n",
      "if you want to add another value, type : add ; if you want to stop, type : stop add\n",
      "your other number : 5\n",
      "if you want to add another value, type : add ; if you want to stop, type : stop stop\n",
      "6 15\n"
     ]
    }
   ],
   "source": [
    "x=0\n",
    "a=0\n",
    "def add(p):\n",
    "    x=0\n",
    "    for h in p:\n",
    "        x=x+h\n",
    "        \n",
    "    return(x)\n",
    "\n",
    "y=1\n",
    "def mult(q):\n",
    "    y=1\n",
    "    for j in q:\n",
    "        y=y*j\n",
    "        \n",
    "    return(y)\n",
    "\n",
    "list=[int(input(\"choose a number : \"))]\n",
    "while a==0:\n",
    "    b=input(\"if you want to add another value, type : add ; if you want to stop, type : stop \")\n",
    "    if b==\"add\":\n",
    "        c=int(input(\"your other number : \"))\n",
    "        list.append(c)\n",
    "        a=0\n",
    "    elif b==\"stop\":\n",
    "        a=a+1\n",
    "    else :\n",
    "        print(\"you have to choose between 'add' and 'stop'\")\n",
    "\n",
    "def lyes(d):\n",
    "    l1=[]\n",
    "    l2=[]\n",
    "    for i in range(len(d)):\n",
    "        if i%2==0:\n",
    "            l1.append(d[i])\n",
    "        else:\n",
    "            l2.append(d[i])\n",
    "    b=add(l1)\n",
    "    c=mult(l2)\n",
    "    \n",
    "    print(b, c)\n",
    "    \n",
    "lyes(list)"
   ]
  },
  {
   "cell_type": "code",
   "execution_count": 11,
   "id": "6088a852",
   "metadata": {},
   "outputs": [
    {
     "name": "stdout",
     "output_type": "stream",
     "text": [
      "write some words, and seperate them with - :a-d-e-v-r\n",
      "sorted list: ['a', 'd', 'e', 'r', 'v']\n"
     ]
    }
   ],
   "source": [
    "a=input(\"write some words, and seperate them with - :\")\n",
    "for i in a:\n",
    "    a_split=a.split(\"-\")\n",
    "a_split.sort()\n",
    "\n",
    "print(\"sorted list:\", a_split)"
   ]
  },
  {
   "cell_type": "code",
   "execution_count": 14,
   "id": "696d2c3c",
   "metadata": {},
   "outputs": [
    {
     "name": "stdout",
     "output_type": "stream",
     "text": [
      "choose a number : 100\n",
      "if you want to add another value, type : add ; if you want to stop, type : stop add\n",
      "your other number : 150\n",
      "if you want to add another value, type : add ; if you want to stop, type : stop add\n",
      "your other number : 180\n",
      "if you want to add another value, type : add ; if you want to stop, type : stop stop\n",
      "18\n",
      "22\n",
      "24\n"
     ]
    }
   ],
   "source": [
    "import math\n",
    "c=50\n",
    "h=30\n",
    "a=0\n",
    "list=[int(input(\"choose a number : \"))]\n",
    "while a==0:\n",
    "    b=input(\"if you want to add another value, type : add ; if you want to stop, type : stop \")\n",
    "    if b==\"add\":\n",
    "        e=int(input(\"your other number : \"))\n",
    "        list.append(e)\n",
    "        a=0\n",
    "    elif b==\"stop\":\n",
    "        a=a+1\n",
    "    else :\n",
    "        print(\"you have to choose between 'add' and 'stop'\")\n",
    "        \n",
    "for i in range(len(list)):\n",
    "    d=2*c*list[i]\n",
    "    f=d/h\n",
    "    print(round(math.sqrt(f)))\n",
    "    \n",
    "    "
   ]
  },
  {
   "cell_type": "code",
   "execution_count": null,
   "id": "841269a9",
   "metadata": {},
   "outputs": [],
   "source": []
  }
 ],
 "metadata": {
  "kernelspec": {
   "display_name": "Python 3 (ipykernel)",
   "language": "python",
   "name": "python3"
  },
  "language_info": {
   "codemirror_mode": {
    "name": "ipython",
    "version": 3
   },
   "file_extension": ".py",
   "mimetype": "text/x-python",
   "name": "python",
   "nbconvert_exporter": "python",
   "pygments_lexer": "ipython3",
   "version": "3.9.7"
  }
 },
 "nbformat": 4,
 "nbformat_minor": 5
}
